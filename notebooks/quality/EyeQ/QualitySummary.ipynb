{
 "cells": [
  {
   "cell_type": "code",
   "execution_count": 9,
   "id": "statistical-effects",
   "metadata": {},
   "outputs": [],
   "source": [
    "import pandas as pd\n",
    "import glob\n",
    "import os\n",
    "import numpy as np"
   ]
  },
  {
   "cell_type": "code",
   "execution_count": 27,
   "id": "cognitive-teacher",
   "metadata": {},
   "outputs": [],
   "source": [
    "def summarize(df):\n",
    "    scores = np.asarray(df[['Good', 'Usable', 'Reject']])\n",
    "    pred = np.argmax(scores, axis=1)\n",
    "    return np.unique(pred, return_counts=True)\n",
    "\n",
    "datasets = glob.glob('*.csv')\n",
    "score = {'dataset':[], 0:[], 1:[], 2:[]}\n",
    "for d in datasets:\n",
    "    df = pd.read_csv(d)\n",
    "    score['dataset'].append(d.split('_')[0])\n",
    "    label, count = summarize(df)\n",
    "    \n",
    "    for l in range(3):\n",
    "        try:\n",
    "            score[l].append(count[label[l]])\n",
    "        except:\n",
    "            score[l].append(0)\n",
    "score = pd.DataFrame(score)\n",
    "\n",
    "score.columns = ['dataset', 'Good', 'Usable', 'Reject']\n",
    "score = score.set_index('dataset')\n",
    "score.to_html('datasets_quality.html')"
   ]
  },
  {
   "cell_type": "code",
   "execution_count": 22,
   "id": "native-organization",
   "metadata": {},
   "outputs": [
    {
     "data": {
      "text/html": [
       "<div>\n",
       "<style scoped>\n",
       "    .dataframe tbody tr th:only-of-type {\n",
       "        vertical-align: middle;\n",
       "    }\n",
       "\n",
       "    .dataframe tbody tr th {\n",
       "        vertical-align: top;\n",
       "    }\n",
       "\n",
       "    .dataframe thead th {\n",
       "        text-align: right;\n",
       "    }\n",
       "</style>\n",
       "<table border=\"1\" class=\"dataframe\">\n",
       "  <thead>\n",
       "    <tr style=\"text-align: right;\">\n",
       "      <th></th>\n",
       "      <th>dataset</th>\n",
       "      <th>0</th>\n",
       "      <th>1</th>\n",
       "      <th>2</th>\n",
       "    </tr>\n",
       "  </thead>\n",
       "  <tbody>\n",
       "    <tr>\n",
       "      <th>0</th>\n",
       "      <td>messidor</td>\n",
       "      <td>196</td>\n",
       "      <td>3</td>\n",
       "      <td>1</td>\n",
       "    </tr>\n",
       "    <tr>\n",
       "      <th>1</th>\n",
       "      <td>retinalLesions</td>\n",
       "      <td>781</td>\n",
       "      <td>661</td>\n",
       "      <td>151</td>\n",
       "    </tr>\n",
       "    <tr>\n",
       "      <th>2</th>\n",
       "      <td>idrid</td>\n",
       "      <td>78</td>\n",
       "      <td>3</td>\n",
       "      <td>0</td>\n",
       "    </tr>\n",
       "    <tr>\n",
       "      <th>3</th>\n",
       "      <td>FGADR</td>\n",
       "      <td>1669</td>\n",
       "      <td>11</td>\n",
       "      <td>162</td>\n",
       "    </tr>\n",
       "  </tbody>\n",
       "</table>\n",
       "</div>"
      ],
      "text/plain": [
       "          dataset     0    1    2\n",
       "0        messidor   196    3    1\n",
       "1  retinalLesions   781  661  151\n",
       "2           idrid    78    3    0\n",
       "3           FGADR  1669   11  162"
      ]
     },
     "execution_count": 22,
     "metadata": {},
     "output_type": "execute_result"
    }
   ],
   "source": []
  },
  {
   "cell_type": "code",
   "execution_count": null,
   "id": "emerging-barrel",
   "metadata": {},
   "outputs": [],
   "source": []
  }
 ],
 "metadata": {
  "kernelspec": {
   "display_name": "Python 3",
   "language": "python",
   "name": "python3"
  },
  "language_info": {
   "codemirror_mode": {
    "name": "ipython",
    "version": 3
   },
   "file_extension": ".py",
   "mimetype": "text/x-python",
   "name": "python",
   "nbconvert_exporter": "python",
   "pygments_lexer": "ipython3",
   "version": "3.8.8"
  }
 },
 "nbformat": 4,
 "nbformat_minor": 5
}
